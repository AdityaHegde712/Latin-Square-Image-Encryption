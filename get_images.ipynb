{
 "cells": [
  {
   "cell_type": "code",
   "execution_count": 7,
   "metadata": {},
   "outputs": [],
   "source": [
    "import os\n",
    "import requests\n",
    "from bs4 import BeautifulSoup\n",
    "from urllib.parse import urljoin\n",
    "import re"
   ]
  },
  {
   "cell_type": "code",
   "execution_count": 8,
   "metadata": {},
   "outputs": [],
   "source": [
    "def clean_filename(filename):\n",
    "    return re.sub(r'[\\/:*?\"<>|]', '', filename)"
   ]
  },
  {
   "cell_type": "code",
   "execution_count": 5,
   "metadata": {},
   "outputs": [],
   "source": [
    "url = 'https://unsplash.com/s/photos/bulk'\n",
    "\n",
    "DOWNLOAD_FOLDER = 'test_images'"
   ]
  },
  {
   "cell_type": "code",
   "execution_count": 12,
   "metadata": {},
   "outputs": [
    {
     "name": "stdout",
     "output_type": "stream",
     "text": [
      "Downloaded: test_images\\0.jpg\n",
      "Downloaded: test_images\\1.jpg\n",
      "Downloaded: test_images\\2.jpg\n",
      "Downloaded: test_images\\3.jpg\n",
      "Downloaded: test_images\\4.jpg\n",
      "Downloaded: test_images\\5.jpg\n",
      "Downloaded: test_images\\6.jpg\n",
      "Downloaded: test_images\\7.jpg\n",
      "Downloaded: test_images\\8.jpg\n",
      "Downloaded: test_images\\9.jpg\n",
      "Downloaded: test_images\\10.jpg\n",
      "Downloaded: test_images\\11.jpg\n",
      "Downloaded: test_images\\12.jpg\n",
      "Downloaded: test_images\\13.jpg\n",
      "Downloaded: test_images\\14.jpg\n",
      "Downloaded: test_images\\15.jpg\n",
      "Downloaded: test_images\\16.jpg\n",
      "Downloaded: test_images\\17.jpg\n",
      "Downloaded: test_images\\18.jpg\n",
      "Downloaded: test_images\\19.jpg\n",
      "Downloaded: test_images\\20.jpg\n",
      "Downloaded: test_images\\21.jpg\n"
     ]
    },
    {
     "ename": "InvalidSchema",
     "evalue": "No connection adapters were found for 'data:image/bmp;base64,Qk32BAAAAAAAADYAAAAoAAAACAAAAAgAAAABABgAAAAAAMAAAAATCwAAEwsAAAAAAAAAAAAAfICNgIaUiJKlkZ+0k6a6jaK2fpKpa36bnZ+snaGwnqa6oK3EorLJoLDGl6a8i5ivtbbDs7bFrrbKrbjQr7zVsLzTq7bKo62/vb3JubvJsrnLr7nQsr3Vtb7UsrrMq7LBr7C4rK64pqy6pa7AqbPHrbXHqbC+oKawjpCTjI+Ti5GWj5ehl6CsmaKukpiihImOYGRcYWZeaG5ndX17gYuNg4yRdX2BXmJgQUkzRk03VVxKaXFnd4F+eIKDZ29vR0tC'",
     "output_type": "error",
     "traceback": [
      "\u001b[1;31m---------------------------------------------------------------------------\u001b[0m",
      "\u001b[1;31mInvalidSchema\u001b[0m                             Traceback (most recent call last)",
      "\u001b[1;32mc:\\Users\\hifia\\Projects\\Cryptography semester project\\get_images.ipynb Cell 4\u001b[0m line \u001b[0;36m2\n\u001b[0;32m     <a href='vscode-notebook-cell:/c%3A/Users/hifia/Projects/Cryptography%20semester%20project/get_images.ipynb#W2sZmlsZQ%3D%3D?line=18'>19</a>\u001b[0m img_url \u001b[39m=\u001b[39m img_tag\u001b[39m.\u001b[39mget(\u001b[39m'\u001b[39m\u001b[39msrc\u001b[39m\u001b[39m'\u001b[39m)  \u001b[39m# Get the image URL\u001b[39;00m\n\u001b[0;32m     <a href='vscode-notebook-cell:/c%3A/Users/hifia/Projects/Cryptography%20semester%20project/get_images.ipynb#W2sZmlsZQ%3D%3D?line=19'>20</a>\u001b[0m img_url \u001b[39m=\u001b[39m urljoin(url, img_url)  \u001b[39m# Make sure the URL is absolute\u001b[39;00m\n\u001b[1;32m---> <a href='vscode-notebook-cell:/c%3A/Users/hifia/Projects/Cryptography%20semester%20project/get_images.ipynb#W2sZmlsZQ%3D%3D?line=20'>21</a>\u001b[0m response \u001b[39m=\u001b[39m requests\u001b[39m.\u001b[39;49mget(img_url)  \u001b[39m# Download the image\u001b[39;00m\n\u001b[0;32m     <a href='vscode-notebook-cell:/c%3A/Users/hifia/Projects/Cryptography%20semester%20project/get_images.ipynb#W2sZmlsZQ%3D%3D?line=22'>23</a>\u001b[0m \u001b[39mif\u001b[39;00m response\u001b[39m.\u001b[39mstatus_code \u001b[39m==\u001b[39m \u001b[39m200\u001b[39m:\n\u001b[0;32m     <a href='vscode-notebook-cell:/c%3A/Users/hifia/Projects/Cryptography%20semester%20project/get_images.ipynb#W2sZmlsZQ%3D%3D?line=23'>24</a>\u001b[0m     \u001b[39m# Extract the filename from the URL\u001b[39;00m\n\u001b[0;32m     <a href='vscode-notebook-cell:/c%3A/Users/hifia/Projects/Cryptography%20semester%20project/get_images.ipynb#W2sZmlsZQ%3D%3D?line=24'>25</a>\u001b[0m     filename \u001b[39m=\u001b[39m os\u001b[39m.\u001b[39mpath\u001b[39m.\u001b[39mbasename(\u001b[39mstr\u001b[39m(counter) \u001b[39m+\u001b[39m \u001b[39m'\u001b[39m\u001b[39m.jpg\u001b[39m\u001b[39m'\u001b[39m)\n",
      "File \u001b[1;32mc:\\Users\\hifia\\AppData\\Local\\Programs\\Python\\Python311\\Lib\\site-packages\\requests\\api.py:73\u001b[0m, in \u001b[0;36mget\u001b[1;34m(url, params, **kwargs)\u001b[0m\n\u001b[0;32m     62\u001b[0m \u001b[39mdef\u001b[39;00m \u001b[39mget\u001b[39m(url, params\u001b[39m=\u001b[39m\u001b[39mNone\u001b[39;00m, \u001b[39m*\u001b[39m\u001b[39m*\u001b[39mkwargs):\n\u001b[0;32m     63\u001b[0m \u001b[39m    \u001b[39m\u001b[39mr\u001b[39m\u001b[39m\"\"\"Sends a GET request.\u001b[39;00m\n\u001b[0;32m     64\u001b[0m \n\u001b[0;32m     65\u001b[0m \u001b[39m    :param url: URL for the new :class:`Request` object.\u001b[39;00m\n\u001b[1;32m   (...)\u001b[0m\n\u001b[0;32m     70\u001b[0m \u001b[39m    :rtype: requests.Response\u001b[39;00m\n\u001b[0;32m     71\u001b[0m \u001b[39m    \"\"\"\u001b[39;00m\n\u001b[1;32m---> 73\u001b[0m     \u001b[39mreturn\u001b[39;00m request(\u001b[39m\"\u001b[39;49m\u001b[39mget\u001b[39;49m\u001b[39m\"\u001b[39;49m, url, params\u001b[39m=\u001b[39;49mparams, \u001b[39m*\u001b[39;49m\u001b[39m*\u001b[39;49mkwargs)\n",
      "File \u001b[1;32mc:\\Users\\hifia\\AppData\\Local\\Programs\\Python\\Python311\\Lib\\site-packages\\requests\\api.py:59\u001b[0m, in \u001b[0;36mrequest\u001b[1;34m(method, url, **kwargs)\u001b[0m\n\u001b[0;32m     55\u001b[0m \u001b[39m# By using the 'with' statement we are sure the session is closed, thus we\u001b[39;00m\n\u001b[0;32m     56\u001b[0m \u001b[39m# avoid leaving sockets open which can trigger a ResourceWarning in some\u001b[39;00m\n\u001b[0;32m     57\u001b[0m \u001b[39m# cases, and look like a memory leak in others.\u001b[39;00m\n\u001b[0;32m     58\u001b[0m \u001b[39mwith\u001b[39;00m sessions\u001b[39m.\u001b[39mSession() \u001b[39mas\u001b[39;00m session:\n\u001b[1;32m---> 59\u001b[0m     \u001b[39mreturn\u001b[39;00m session\u001b[39m.\u001b[39;49mrequest(method\u001b[39m=\u001b[39;49mmethod, url\u001b[39m=\u001b[39;49murl, \u001b[39m*\u001b[39;49m\u001b[39m*\u001b[39;49mkwargs)\n",
      "File \u001b[1;32mc:\\Users\\hifia\\AppData\\Local\\Programs\\Python\\Python311\\Lib\\site-packages\\requests\\sessions.py:589\u001b[0m, in \u001b[0;36mSession.request\u001b[1;34m(self, method, url, params, data, headers, cookies, files, auth, timeout, allow_redirects, proxies, hooks, stream, verify, cert, json)\u001b[0m\n\u001b[0;32m    584\u001b[0m send_kwargs \u001b[39m=\u001b[39m {\n\u001b[0;32m    585\u001b[0m     \u001b[39m\"\u001b[39m\u001b[39mtimeout\u001b[39m\u001b[39m\"\u001b[39m: timeout,\n\u001b[0;32m    586\u001b[0m     \u001b[39m\"\u001b[39m\u001b[39mallow_redirects\u001b[39m\u001b[39m\"\u001b[39m: allow_redirects,\n\u001b[0;32m    587\u001b[0m }\n\u001b[0;32m    588\u001b[0m send_kwargs\u001b[39m.\u001b[39mupdate(settings)\n\u001b[1;32m--> 589\u001b[0m resp \u001b[39m=\u001b[39m \u001b[39mself\u001b[39;49m\u001b[39m.\u001b[39;49msend(prep, \u001b[39m*\u001b[39;49m\u001b[39m*\u001b[39;49msend_kwargs)\n\u001b[0;32m    591\u001b[0m \u001b[39mreturn\u001b[39;00m resp\n",
      "File \u001b[1;32mc:\\Users\\hifia\\AppData\\Local\\Programs\\Python\\Python311\\Lib\\site-packages\\requests\\sessions.py:697\u001b[0m, in \u001b[0;36mSession.send\u001b[1;34m(self, request, **kwargs)\u001b[0m\n\u001b[0;32m    694\u001b[0m hooks \u001b[39m=\u001b[39m request\u001b[39m.\u001b[39mhooks\n\u001b[0;32m    696\u001b[0m \u001b[39m# Get the appropriate adapter to use\u001b[39;00m\n\u001b[1;32m--> 697\u001b[0m adapter \u001b[39m=\u001b[39m \u001b[39mself\u001b[39;49m\u001b[39m.\u001b[39;49mget_adapter(url\u001b[39m=\u001b[39;49mrequest\u001b[39m.\u001b[39;49murl)\n\u001b[0;32m    699\u001b[0m \u001b[39m# Start time (approximately) of the request\u001b[39;00m\n\u001b[0;32m    700\u001b[0m start \u001b[39m=\u001b[39m preferred_clock()\n",
      "File \u001b[1;32mc:\\Users\\hifia\\AppData\\Local\\Programs\\Python\\Python311\\Lib\\site-packages\\requests\\sessions.py:794\u001b[0m, in \u001b[0;36mSession.get_adapter\u001b[1;34m(self, url)\u001b[0m\n\u001b[0;32m    791\u001b[0m         \u001b[39mreturn\u001b[39;00m adapter\n\u001b[0;32m    793\u001b[0m \u001b[39m# Nothing matches :-/\u001b[39;00m\n\u001b[1;32m--> 794\u001b[0m \u001b[39mraise\u001b[39;00m InvalidSchema(\u001b[39mf\u001b[39m\u001b[39m\"\u001b[39m\u001b[39mNo connection adapters were found for \u001b[39m\u001b[39m{\u001b[39;00murl\u001b[39m!r}\u001b[39;00m\u001b[39m\"\u001b[39m)\n",
      "\u001b[1;31mInvalidSchema\u001b[0m: No connection adapters were found for 'data:image/bmp;base64,Qk32BAAAAAAAADYAAAAoAAAACAAAAAgAAAABABgAAAAAAMAAAAATCwAAEwsAAAAAAAAAAAAAfICNgIaUiJKlkZ+0k6a6jaK2fpKpa36bnZ+snaGwnqa6oK3EorLJoLDGl6a8i5ivtbbDs7bFrrbKrbjQr7zVsLzTq7bKo62/vb3JubvJsrnLr7nQsr3Vtb7UsrrMq7LBr7C4rK64pqy6pa7AqbPHrbXHqbC+oKawjpCTjI+Ti5GWj5ehl6CsmaKukpiihImOYGRcYWZeaG5ndX17gYuNg4yRdX2BXmJgQUkzRk03VVxKaXFnd4F+eIKDZ29vR0tC'"
     ]
    }
   ],
   "source": [
    "if not os.path.exists(DOWNLOAD_FOLDER):\n",
    "    os.makedirs(DOWNLOAD_FOLDER)\n",
    "\n",
    "response = requests.get(url)\n",
    "\n",
    "if response.status_code == 200:\n",
    "    soup = BeautifulSoup(response.text, 'html.parser')\n",
    "    \n",
    "    img_tags = soup.find_all('img')\n",
    "    \n",
    "    counter = 0\n",
    "    for img_tag in img_tags:\n",
    "        img_url = img_tag.get('src') \n",
    "        img_url = urljoin(url, img_url)  \n",
    "        response = requests.get(img_url) \n",
    "        \n",
    "        if response.status_code == 200:\n",
    "            filename = os.path.basename(str(counter) + '.jpg')\n",
    "            counter += 1\n",
    "            filename = clean_filename(filename)\n",
    "            filename = os.path.join(DOWNLOAD_FOLDER, filename)\n",
    "            \n",
    "            with open(filename, 'wb') as f:\n",
    "                f.write(response.content)\n",
    "                print(f'Downloaded: {filename}')\n",
    "        else:\n",
    "            print(f'Failed to download: {img_url}')\n",
    "else:\n",
    "    print(f'Failed to retrieve the webpage: {url}')"
   ]
  }
 ],
 "metadata": {
  "kernelspec": {
   "display_name": "Python 3",
   "language": "python",
   "name": "python3"
  },
  "language_info": {
   "codemirror_mode": {
    "name": "ipython",
    "version": 3
   },
   "file_extension": ".py",
   "mimetype": "text/x-python",
   "name": "python",
   "nbconvert_exporter": "python",
   "pygments_lexer": "ipython3",
   "version": "3.11.4"
  },
  "orig_nbformat": 4
 },
 "nbformat": 4,
 "nbformat_minor": 2
}
