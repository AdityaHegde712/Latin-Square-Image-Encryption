{
 "cells": [
  {
   "cell_type": "code",
   "execution_count": 6,
   "metadata": {},
   "outputs": [],
   "source": [
    "import random\n",
    "import os"
   ]
  },
  {
   "cell_type": "code",
   "execution_count": 7,
   "metadata": {},
   "outputs": [],
   "source": [
    "# Define the path to the input image\n",
    "input_image_path = 'test_images/1.jpg'\n",
    "\n",
    "# Create the 'encrypted_images' folder if it doesn't exist\n",
    "output_folder = 'encrypted_images'\n",
    "if not os.path.exists(output_folder):\n",
    "    os.makedirs(output_folder)"
   ]
  },
  {
   "cell_type": "markdown",
   "metadata": {},
   "source": [
    "#### Sort Map Function"
   ]
  },
  {
   "cell_type": "code",
   "execution_count": 26,
   "metadata": {},
   "outputs": [],
   "source": [
    "def sort_map_function(sequence):\n",
    "    t1 = sorted(sequence)\n",
    "    s = []\n",
    "    for n in sequence:\n",
    "        s.append(t1.index(n))\n",
    "    return s\n",
    "\n",
    "# print(sort_map_function([3,1,4,2]))"
   ]
  },
  {
   "cell_type": "markdown",
   "metadata": {},
   "source": [
    "#### Generating P1 and P2"
   ]
  },
  {
   "cell_type": "code",
   "execution_count": 27,
   "metadata": {},
   "outputs": [
    {
     "name": "stdout",
     "output_type": "stream",
     "text": [
      "P1: [2, 7, 1, 5, 3, 10, 6, 4, 9, 8]\n",
      "P2: [10, 2, 4, 5, 6, 7, 1, 3, 9, 8]\n"
     ]
    }
   ],
   "source": [
    "N = 10  # Set N to 5\n",
    "P1 = random.sample(range(1,N+1), N)\n",
    "P2 = random.sample(range(1,N+1), N)\n",
    "\n",
    "print(\"P1:\", P1)\n",
    "print(\"P2:\", P2)"
   ]
  },
  {
   "cell_type": "markdown",
   "metadata": {},
   "source": [
    "#### S1 and S2 sequences"
   ]
  },
  {
   "cell_type": "code",
   "execution_count": 28,
   "metadata": {},
   "outputs": [
    {
     "name": "stdout",
     "output_type": "stream",
     "text": [
      "S1: [1, 6, 0, 4, 2, 9, 5, 3, 8, 7]\n",
      "S2: [9, 1, 3, 4, 5, 6, 0, 2, 8, 7]\n"
     ]
    }
   ],
   "source": [
    "S1 = sort_map_function(P1)\n",
    "S2 = sort_map_function(P2)\n",
    "\n",
    "print(\"S1:\", S1)\n",
    "print(\"S2:\", S2)"
   ]
  }
 ],
 "metadata": {
  "kernelspec": {
   "display_name": "Python 3",
   "language": "python",
   "name": "python3"
  },
  "language_info": {
   "codemirror_mode": {
    "name": "ipython",
    "version": 3
   },
   "file_extension": ".py",
   "mimetype": "text/x-python",
   "name": "python",
   "nbconvert_exporter": "python",
   "pygments_lexer": "ipython3",
   "version": "3.10.13"
  },
  "orig_nbformat": 4
 },
 "nbformat": 4,
 "nbformat_minor": 2
}
